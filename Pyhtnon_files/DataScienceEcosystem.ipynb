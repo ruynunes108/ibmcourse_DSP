{
 "cells": [
  {
   "cell_type": "markdown",
   "id": "1d4e87b8",
   "metadata": {},
   "source": [
    "# Data Science Tools and Ecosystem"
   ]
  },
  {
   "cell_type": "markdown",
   "id": "ece38759",
   "metadata": {},
   "source": [
    "## In this notebook, Data Science Tools and Ecosystem are summarized."
   ]
  },
  {
   "cell_type": "markdown",
   "id": "f4aedb62",
   "metadata": {},
   "source": [
    "### Objectives:\n",
    "-  List popular languages for Data Science;\n",
    "-  List commonly used libraries used by Data Scientists;\n",
    "-  Make some simple arithmetic and conversions using Python."
   ]
  },
  {
   "cell_type": "markdown",
   "id": "69558455",
   "metadata": {},
   "source": [
    "### Some of the popular languages that Data Scientists use are:\n",
    " -  Python: Python is widely regarded as the go-to language for data science. It has extensive libraries and frameworks like NumPy, Pandas, Matplotlib, and Scikit-learn that make it easy to manipulate data, perform statistical analysis, and create machine learning models.\n",
    "\n",
    "-  R: R is another popular language in the field of data science, particularly in statistical analysis and data visualization. It has a rich ecosystem of packages for statistical computing and graphics, making it a preferred choice for statisticians and data analysts.\n",
    "\n",
    "-  SQL (Structured Query Language): While not a traditional programming language, SQL is essential for data science, especially in handling and querying databases. Knowing how to retrieve and manipulate data using SQL is a crucial skill for data scientists working with large datasets."
   ]
  },
  {
   "cell_type": "markdown",
   "id": "d5da9b41",
   "metadata": {},
   "source": [
    "### Some of the commonly used libraries used by Data Scientists include:\n",
    "-  Python Libraries\n",
    "> Pandas,\n",
    "> NumPy,\n",
    "> Scikit-learn.\n",
    "\n",
    "-  R Libraries\n",
    "> caret,\n",
    "> dplyr,\n",
    "> ggplot2."
   ]
  },
  {
   "cell_type": "code",
   "execution_count": 3,
   "id": "45a16074",
   "metadata": {},
   "outputs": [],
   "source": [
    "import pandas as pd"
   ]
  },
  {
   "cell_type": "code",
   "execution_count": 6,
   "id": "a10688d5",
   "metadata": {},
   "outputs": [
    {
     "data": {
      "text/html": [
       "<div>\n",
       "<style scoped>\n",
       "    .dataframe tbody tr th:only-of-type {\n",
       "        vertical-align: middle;\n",
       "    }\n",
       "\n",
       "    .dataframe tbody tr th {\n",
       "        vertical-align: top;\n",
       "    }\n",
       "\n",
       "    .dataframe thead th {\n",
       "        text-align: right;\n",
       "    }\n",
       "</style>\n",
       "<table border=\"1\" class=\"dataframe\">\n",
       "  <thead>\n",
       "    <tr style=\"text-align: right;\">\n",
       "      <th></th>\n",
       "      <th>dtatools</th>\n",
       "    </tr>\n",
       "  </thead>\n",
       "  <tbody>\n",
       "    <tr>\n",
       "      <th>0</th>\n",
       "      <td>Jupyter Notebooks</td>\n",
       "    </tr>\n",
       "    <tr>\n",
       "      <th>1</th>\n",
       "      <td>RStudio</td>\n",
       "    </tr>\n",
       "    <tr>\n",
       "      <th>2</th>\n",
       "      <td>VS Code</td>\n",
       "    </tr>\n",
       "  </tbody>\n",
       "</table>\n",
       "</div>"
      ],
      "text/plain": [
       "            dtatools\n",
       "0  Jupyter Notebooks\n",
       "1            RStudio\n",
       "2            VS Code"
      ]
     },
     "execution_count": 6,
     "metadata": {},
     "output_type": "execute_result"
    }
   ],
   "source": [
    "tools = pd.DataFrame(\n",
    "{'dtatools': ['Jupyter Notebooks', 'RStudio', 'VS Code']})\n",
    "tools"
   ]
  },
  {
   "cell_type": "markdown",
   "id": "62a8c64f",
   "metadata": {},
   "source": [
    "### Below are a few examples of evaluating arithmetic expressions in Python"
   ]
  },
  {
   "cell_type": "code",
   "execution_count": 8,
   "id": "8643bf52",
   "metadata": {},
   "outputs": [
    {
     "data": {
      "text/plain": [
       "17"
      ]
     },
     "execution_count": 8,
     "metadata": {},
     "output_type": "execute_result"
    }
   ],
   "source": [
    "# This a simple arithmetic expression to mutiply then add integers\n",
    "(3*4) + 5"
   ]
  },
  {
   "cell_type": "code",
   "execution_count": 9,
   "id": "afccbbde",
   "metadata": {},
   "outputs": [
    {
     "data": {
      "text/plain": [
       "3.3333333333333335"
      ]
     },
     "execution_count": 9,
     "metadata": {},
     "output_type": "execute_result"
    }
   ],
   "source": [
    "#This will convert 200 minutes to hours by diving by 60\n",
    "200/60"
   ]
  },
  {
   "cell_type": "markdown",
   "id": "f5432a40",
   "metadata": {},
   "source": [
    "## Author: Ruy Nunes"
   ]
  }
 ],
 "metadata": {
  "kernelspec": {
   "display_name": "Python 3 (ipykernel)",
   "language": "python",
   "name": "python3"
  },
  "language_info": {
   "codemirror_mode": {
    "name": "ipython",
    "version": 3
   },
   "file_extension": ".py",
   "mimetype": "text/x-python",
   "name": "python",
   "nbconvert_exporter": "python",
   "pygments_lexer": "ipython3",
   "version": "3.11.5"
  }
 },
 "nbformat": 4,
 "nbformat_minor": 5
}
